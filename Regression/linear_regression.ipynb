{
 "cells": [
  {
   "cell_type": "markdown",
   "metadata": {},
   "source": [
    "## Load the Preprocessed Dataset\n",
    "- Verify that the dataset is properly cleaned and ready for modeling."
   ]
  },
  {
   "cell_type": "code",
   "execution_count": 14,
   "metadata": {},
   "outputs": [
    {
     "name": "stdout",
     "output_type": "stream",
     "text": [
      "Dataset preview:\n"
     ]
    },
    {
     "data": {
      "text/html": [
       "<div>\n",
       "<style scoped>\n",
       "    .dataframe tbody tr th:only-of-type {\n",
       "        vertical-align: middle;\n",
       "    }\n",
       "\n",
       "    .dataframe tbody tr th {\n",
       "        vertical-align: top;\n",
       "    }\n",
       "\n",
       "    .dataframe thead th {\n",
       "        text-align: right;\n",
       "    }\n",
       "</style>\n",
       "<table border=\"1\" class=\"dataframe\">\n",
       "  <thead>\n",
       "    <tr style=\"text-align: right;\">\n",
       "      <th></th>\n",
       "      <th>Hours Studied</th>\n",
       "      <th>Previous Scores</th>\n",
       "      <th>Extracurricular Activities</th>\n",
       "      <th>Sleep Hours</th>\n",
       "      <th>Sample Question Papers Practiced</th>\n",
       "      <th>Performance Index</th>\n",
       "    </tr>\n",
       "  </thead>\n",
       "  <tbody>\n",
       "    <tr>\n",
       "      <th>0</th>\n",
       "      <td>7.0</td>\n",
       "      <td>99</td>\n",
       "      <td>Yes</td>\n",
       "      <td>9.0</td>\n",
       "      <td>1.0</td>\n",
       "      <td>91.0</td>\n",
       "    </tr>\n",
       "    <tr>\n",
       "      <th>1</th>\n",
       "      <td>4.0</td>\n",
       "      <td>82</td>\n",
       "      <td>No</td>\n",
       "      <td>4.0</td>\n",
       "      <td>2.0</td>\n",
       "      <td>65.0</td>\n",
       "    </tr>\n",
       "    <tr>\n",
       "      <th>2</th>\n",
       "      <td>8.0</td>\n",
       "      <td>51</td>\n",
       "      <td>Yes</td>\n",
       "      <td>7.0</td>\n",
       "      <td>2.0</td>\n",
       "      <td>45.0</td>\n",
       "    </tr>\n",
       "    <tr>\n",
       "      <th>3</th>\n",
       "      <td>5.0</td>\n",
       "      <td>52</td>\n",
       "      <td>Yes</td>\n",
       "      <td>5.0</td>\n",
       "      <td>2.0</td>\n",
       "      <td>36.0</td>\n",
       "    </tr>\n",
       "    <tr>\n",
       "      <th>4</th>\n",
       "      <td>7.0</td>\n",
       "      <td>75</td>\n",
       "      <td>No</td>\n",
       "      <td>8.0</td>\n",
       "      <td>5.0</td>\n",
       "      <td>66.0</td>\n",
       "    </tr>\n",
       "  </tbody>\n",
       "</table>\n",
       "</div>"
      ],
      "text/plain": [
       "   Hours Studied  Previous Scores Extracurricular Activities  Sleep Hours  \\\n",
       "0            7.0               99                        Yes          9.0   \n",
       "1            4.0               82                         No          4.0   \n",
       "2            8.0               51                        Yes          7.0   \n",
       "3            5.0               52                        Yes          5.0   \n",
       "4            7.0               75                         No          8.0   \n",
       "\n",
       "   Sample Question Papers Practiced  Performance Index  \n",
       "0                               1.0               91.0  \n",
       "1                               2.0               65.0  \n",
       "2                               2.0               45.0  \n",
       "3                               2.0               36.0  \n",
       "4                               5.0               66.0  "
      ]
     },
     "execution_count": 14,
     "metadata": {},
     "output_type": "execute_result"
    }
   ],
   "source": [
    "import pandas as pd\n",
    "\n",
    "# Load the preprocessed dataset\n",
    "df = pd.read_csv('student_performance_clean.csv')\n",
    "\n",
    "# Display the first few rows to verify the data\n",
    "print(\"Dataset preview:\")\n",
    "df.head()"
   ]
  },
  {
   "cell_type": "markdown",
   "metadata": {},
   "source": [
    "## Feature Selection and Data Preparation\n",
    "Make sure that all features are in the correct numerical format (if any feature is categorical, you might need to encode it).\n",
    "### Converting the Yes/No Column\n",
    "Since the Extracurricular Activities column contains \"yes\" or \"no\" values, convert it to numerical format. One common approach is mapping \"yes\" to 1 and \"no\" to 0."
   ]
  },
  {
   "cell_type": "code",
   "execution_count": 15,
   "metadata": {},
   "outputs": [
    {
     "name": "stdout",
     "output_type": "stream",
     "text": [
      "Unique values in 'Extracurricular Activities': [1 0]\n"
     ]
    }
   ],
   "source": [
    "# Map 'yes' to 1 and 'no' to 0 in the 'Extracurricular Activities' column\n",
    "df['Extracurricular Activities'] = df['Extracurricular Activities'].map({'Yes': 1, 'No': 0})\n",
    "\n",
    "# Verify the conversion\n",
    "print(\"Unique values in 'Extracurricular Activities':\", df['Extracurricular Activities'].unique())"
   ]
  },
  {
   "cell_type": "markdown",
   "metadata": {},
   "source": [
    "### Selecting Features and the Target\n",
    "Select the features (predictors) and target variable. In this scenario, we'll use:\n",
    "\n",
    "- **Features**: Hours Studied, Previous Scores, Extracurricular Activities, Sleep Hours, Sample Question Papers Practiced\n",
    "- **Target**: Performance Index\n",
    "\n",
    "- Correctly selecting and separating the predictors and target is crucial for training an accurate model."
   ]
  },
  {
   "cell_type": "code",
   "execution_count": 16,
   "metadata": {},
   "outputs": [],
   "source": [
    "# Define the feature matrix X and target vector y\n",
    "X = df[['Hours Studied', 'Previous Scores', 'Extracurricular Activities', 'Sleep Hours', 'Sample Question Papers Practiced']]\n",
    "y = df['Performance Index']"
   ]
  },
  {
   "cell_type": "code",
   "execution_count": 17,
   "metadata": {},
   "outputs": [
    {
     "name": "stdout",
     "output_type": "stream",
     "text": [
      "Features preview:\n"
     ]
    },
    {
     "data": {
      "text/html": [
       "<div>\n",
       "<style scoped>\n",
       "    .dataframe tbody tr th:only-of-type {\n",
       "        vertical-align: middle;\n",
       "    }\n",
       "\n",
       "    .dataframe tbody tr th {\n",
       "        vertical-align: top;\n",
       "    }\n",
       "\n",
       "    .dataframe thead th {\n",
       "        text-align: right;\n",
       "    }\n",
       "</style>\n",
       "<table border=\"1\" class=\"dataframe\">\n",
       "  <thead>\n",
       "    <tr style=\"text-align: right;\">\n",
       "      <th></th>\n",
       "      <th>Hours Studied</th>\n",
       "      <th>Previous Scores</th>\n",
       "      <th>Extracurricular Activities</th>\n",
       "      <th>Sleep Hours</th>\n",
       "      <th>Sample Question Papers Practiced</th>\n",
       "    </tr>\n",
       "  </thead>\n",
       "  <tbody>\n",
       "    <tr>\n",
       "      <th>0</th>\n",
       "      <td>7.0</td>\n",
       "      <td>99</td>\n",
       "      <td>1</td>\n",
       "      <td>9.0</td>\n",
       "      <td>1.0</td>\n",
       "    </tr>\n",
       "    <tr>\n",
       "      <th>1</th>\n",
       "      <td>4.0</td>\n",
       "      <td>82</td>\n",
       "      <td>0</td>\n",
       "      <td>4.0</td>\n",
       "      <td>2.0</td>\n",
       "    </tr>\n",
       "    <tr>\n",
       "      <th>2</th>\n",
       "      <td>8.0</td>\n",
       "      <td>51</td>\n",
       "      <td>1</td>\n",
       "      <td>7.0</td>\n",
       "      <td>2.0</td>\n",
       "    </tr>\n",
       "    <tr>\n",
       "      <th>3</th>\n",
       "      <td>5.0</td>\n",
       "      <td>52</td>\n",
       "      <td>1</td>\n",
       "      <td>5.0</td>\n",
       "      <td>2.0</td>\n",
       "    </tr>\n",
       "    <tr>\n",
       "      <th>4</th>\n",
       "      <td>7.0</td>\n",
       "      <td>75</td>\n",
       "      <td>0</td>\n",
       "      <td>8.0</td>\n",
       "      <td>5.0</td>\n",
       "    </tr>\n",
       "  </tbody>\n",
       "</table>\n",
       "</div>"
      ],
      "text/plain": [
       "   Hours Studied  Previous Scores  Extracurricular Activities  Sleep Hours  \\\n",
       "0            7.0               99                           1          9.0   \n",
       "1            4.0               82                           0          4.0   \n",
       "2            8.0               51                           1          7.0   \n",
       "3            5.0               52                           1          5.0   \n",
       "4            7.0               75                           0          8.0   \n",
       "\n",
       "   Sample Question Papers Practiced  \n",
       "0                               1.0  \n",
       "1                               2.0  \n",
       "2                               2.0  \n",
       "3                               2.0  \n",
       "4                               5.0  "
      ]
     },
     "execution_count": 17,
     "metadata": {},
     "output_type": "execute_result"
    }
   ],
   "source": [
    "# Check the feature matrix and target variable\n",
    "print(\"Features preview:\")\n",
    "X.head()"
   ]
  },
  {
   "cell_type": "code",
   "execution_count": 18,
   "metadata": {},
   "outputs": [
    {
     "name": "stdout",
     "output_type": "stream",
     "text": [
      "Target preview:\n"
     ]
    },
    {
     "data": {
      "text/plain": [
       "0    91.0\n",
       "1    65.0\n",
       "2    45.0\n",
       "3    36.0\n",
       "4    66.0\n",
       "Name: Performance Index, dtype: float64"
      ]
     },
     "execution_count": 18,
     "metadata": {},
     "output_type": "execute_result"
    }
   ],
   "source": [
    "print(\"Target preview:\")\n",
    "y.head()"
   ]
  },
  {
   "cell_type": "markdown",
   "metadata": {},
   "source": [
    "## Splitting the Dataset\n",
    "Split the dataset into training and testing sets. Typically, an 80/20 or 70/30 split is common to ensure the model is evaluated on unseen data.\n",
    "- Splitting data helps evaluate model performance on unseen data, preventing overfitting.\n"
   ]
  },
  {
   "cell_type": "code",
   "execution_count": 19,
   "metadata": {},
   "outputs": [
    {
     "name": "stdout",
     "output_type": "stream",
     "text": [
      "Training set size: (7968, 5)\n",
      "Testing set size: (1993, 5)\n"
     ]
    }
   ],
   "source": [
    "from sklearn.model_selection import train_test_split\n",
    "\n",
    "# Split the data into training and testing sets (80% train, 20% test)\n",
    "X_train, X_test, y_train, y_test = train_test_split(X, y, test_size=0.2, random_state=42)\n",
    "\n",
    "print(\"Training set size:\", X_train.shape)\n",
    "print(\"Testing set size:\", X_test.shape)"
   ]
  },
  {
   "cell_type": "markdown",
   "metadata": {},
   "source": [
    "## Training the Linear Regression Model\n",
    "Use scikit-learn's `LinearRegression` to fit a model on the training data.\n",
    "- Understand the process of fitting a model to the training data using scikit-learn."
   ]
  },
  {
   "cell_type": "code",
   "execution_count": 20,
   "metadata": {},
   "outputs": [
    {
     "name": "stdout",
     "output_type": "stream",
     "text": [
      "Model training complete.\n"
     ]
    }
   ],
   "source": [
    "from sklearn.linear_model import LinearRegression\n",
    "\n",
    "# Create an instance of the LinearRegression model\n",
    "model = LinearRegression()\n",
    "\n",
    "# Train (fit) the model using the training data\n",
    "model.fit(X_train, y_train)\n",
    "\n",
    "print(\"Model training complete.\")"
   ]
  },
  {
   "cell_type": "markdown",
   "metadata": {},
   "source": [
    "## Making Predictions and Evaluating the Model\n",
    "After training, use the model to predict performance on the test set. \n",
    "\n",
    "Then, evaluate its performance using metrics such as the Mean Squared Error (MSE) and $R²$ score.\n",
    "- Evaluate the regression model to understand its predictive accuracy and error."
   ]
  },
  {
   "cell_type": "code",
   "execution_count": 21,
   "metadata": {},
   "outputs": [
    {
     "name": "stdout",
     "output_type": "stream",
     "text": [
      "Mean Squared Error (MSE): 9.615715629516592\n",
      "R² Score: 0.9740478788441724\n"
     ]
    }
   ],
   "source": [
    "from sklearn.metrics import mean_squared_error, r2_score\n",
    "\n",
    "# Make predictions on the testing set\n",
    "y_pred = model.predict(X_test)\n",
    "\n",
    "# Evaluate the model's performance\n",
    "mse = mean_squared_error(y_test, y_pred)\n",
    "r2 = r2_score(y_test, y_pred)\n",
    "\n",
    "print(\"Mean Squared Error (MSE):\", mse)\n",
    "print(\"R² Score:\", r2)\n"
   ]
  },
  {
   "cell_type": "markdown",
   "metadata": {},
   "source": [
    "# Evaluating Regression Models: MSE and R²\n",
    "\n",
    "## Mean Squared Error (MSE)\n",
    "\n",
    "Mean Squared Error (MSE) is a common metric for evaluating the performance of regression models. It measures the average squared difference between the predicted values and the actual values.\n",
    "\n",
    "**Formula:**\n",
    "\n",
    "$\\text{MSE} = \\frac{1}{n} \\sum_{i=1}^{n} \\left( y_i - \\hat{y}_i \\right)^2$\n",
    "\n",
    "Where:\n",
    "- $( y_i )$ is the actual value for the $(i^{th})$ observation.\n",
    "- $( \\hat{y}_i )$ is the predicted value for the $(i^{th})$ observation.\n",
    "- $( n )$ is the total number of observations.\n",
    "\n",
    "**Key Point:**  \n",
    "Squaring the errors means that larger errors are penalized more heavily, which makes MSE sensitive to outliers.\n",
    "\n",
    "---\n",
    "\n",
    "## Coefficient of Determination (R² Score)\n",
    "\n",
    "The R² score, also known as the coefficient of determination, quantifies how well the independent variables explain the variability of the dependent variable in a regression model.\n",
    "\n",
    "**Formula:**\n",
    "\n",
    "$R^2 = 1 - \\frac{\\text{SS}_{\\text{res}}}{\\text{SS}_{\\text{tot}}}$\n",
    "\n",
    "Where:\n",
    "- $(\\text{SS}_{\\text{res}} = \\sum_{i=1}^{n} \\left( y_i - \\hat{y}_i \\right)^2)$ is the residual sum of squares.\n",
    "- $(\\text{SS}_{\\text{tot}} = \\sum_{i=1}^{n} \\left( y_i - \\bar{y} \\right)^2)$ is the total sum of squares.\n",
    "- $( \\bar{y} )$ is the mean of the actual values.\n",
    "\n",
    "**Interpretation:**\n",
    "- An $( R^2 )$ value of **1** indicates that the model perfectly explains the variance in the data.\n",
    "- An $( R^2 )$ value of **0** means that the model does no better than predicting the mean.\n",
    "- Negative values suggest that the model performs worse than simply predicting the mean.\n",
    "\n",
    "---\n",
    "\n",
    "Together, these metrics provide a robust way to evaluate regression models. MSE offers insight into the magnitude of the prediction errors, while the R² score provides a measure of the proportion of variance explained by the model.\n"
   ]
  },
  {
   "cell_type": "markdown",
   "metadata": {},
   "source": [
    "## Interpreting the Model Coefficients\n",
    "Understanding the coefficients can offer insight into how each predictor influences the target variable.\n",
    "- Model coefficients help in interpreting the influence of each feature on the outcome."
   ]
  },
  {
   "cell_type": "code",
   "execution_count": 22,
   "metadata": {},
   "outputs": [
    {
     "name": "stdout",
     "output_type": "stream",
     "text": [
      "Intercept: -34.1210594325544\n",
      "Coefficients:\n",
      "  Hours Studied: 2.8521269892855154\n",
      "  Previous Scores: 1.0192038825540717\n",
      "  Extracurricular Activities: 0.7487257123811044\n",
      "  Sleep Hours: 0.46664605215555943\n",
      "  Sample Question Papers Practiced: 0.19887583660555258\n"
     ]
    }
   ],
   "source": [
    "# Retrieve the coefficients and the intercept\n",
    "coefficients = model.coef_\n",
    "intercept = model.intercept_\n",
    "\n",
    "# Display the model parameters\n",
    "feature_names = X.columns\n",
    "print(\"Intercept:\", intercept)\n",
    "print(\"Coefficients:\")\n",
    "for feature, coef in zip(feature_names, coefficients):\n",
    "    print(f\"  {feature}: {coef}\")\n"
   ]
  },
  {
   "cell_type": "markdown",
   "metadata": {},
   "source": [
    "# Model Interpretation\n",
    "\n",
    "The linear regression model was fitted to predict the **Performance Index** based on several predictors. Below is an interpretation of the intercept and each coefficient in the model:\n",
    "\n",
    "### Intercept\n",
    "- **Intercept:** -34.121  \n",
    "  This value represents the estimated **Performance Index** when all predictor variables are equal to zero. In this context, a negative intercept suggests that if a student had zero hours studied, zero previous scores, did not participate in extracurricular activities, got zero sleep hours, and practiced zero sample question papers, the model predicts a very low (or negative) performance index. While this scenario is unlikely, the intercept serves as a baseline for the model.\n",
    "\n",
    "### Coefficients\n",
    "Each coefficient quantifies the expected change in the **Performance Index** for a one-unit increase in the predictor variable, holding all other variables constant.\n",
    "\n",
    "- **Hours Studied:** 2.852  \n",
    "  For each additional hour a student studies, the **Performance Index** is predicted to increase by approximately 2.85 units. This indicates a strong positive relationship between study time and performance.\n",
    "\n",
    "- **Previous Scores:** 1.019  \n",
    "  An increase of one unit in previous scores is associated with an increase of about 1.02 units in the **Performance Index**. This suggests that a student's past academic performance is a valuable predictor of future performance.\n",
    "\n",
    "- **Extracurricular Activities:** 0.749  \n",
    "  Since the **Extracurricular Activities** variable was converted to numeric (with 1 representing \"yes\" and 0 representing \"no\"), this coefficient indicates that students who participate in extracurricular activities have a **Performance Index** that is, on average, 0.75 units higher than those who do not, all else being equal.\n",
    "\n",
    "- **Sleep Hours:** 0.467  \n",
    "  Each additional hour of sleep is associated with an increase of approximately 0.47 units in the **Performance Index**. Although this effect is positive, it is smaller compared to other predictors, suggesting that sleep has a more modest impact on performance.\n",
    "\n",
    "- **Sample Question Papers Practiced:** 0.199  \n",
    "  For every additional sample question paper practiced, the **Performance Index** increases by about 0.20 units. This indicates a positive, but relatively minor, effect on performance.\n",
    "\n",
    "### Overall Interpretation\n",
    "The model highlights the importance of study-related activities and previous academic performance in predicting the **Performance Index**. Notably, **Hours Studied** and **Previous Scores** have the most significant impacts, as evidenced by their higher coefficients. While factors like **Extracurricular Activities**, **Sleep Hours**, and **Sample Question Papers Practiced** also contribute positively, their effects are comparatively smaller. This insight can be useful for educators and students alike, suggesting that focusing on study time and building on past performance may yield the most substantial improvements in overall academic outcomes.\n"
   ]
  },
  {
   "cell_type": "markdown",
   "metadata": {},
   "source": []
  }
 ],
 "metadata": {
  "kernelspec": {
   "display_name": "Python 3",
   "language": "python",
   "name": "python3"
  },
  "language_info": {
   "codemirror_mode": {
    "name": "ipython",
    "version": 3
   },
   "file_extension": ".py",
   "mimetype": "text/x-python",
   "name": "python",
   "nbconvert_exporter": "python",
   "pygments_lexer": "ipython3",
   "version": "3.10.12"
  }
 },
 "nbformat": 4,
 "nbformat_minor": 2
}
