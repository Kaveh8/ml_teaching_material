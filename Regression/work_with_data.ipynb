{
 "cells": [
  {
   "cell_type": "markdown",
   "metadata": {},
   "source": [
    "## Loading the Dataset\n",
    "Verify that the dataset is loaded and inspect the initial structure."
   ]
  },
  {
   "cell_type": "code",
   "execution_count": 2,
   "metadata": {},
   "outputs": [
    {
     "name": "stdout",
     "output_type": "stream",
     "text": [
      "Dataset loaded successfully!\n"
     ]
    },
    {
     "data": {
      "text/html": [
       "<div>\n",
       "<style scoped>\n",
       "    .dataframe tbody tr th:only-of-type {\n",
       "        vertical-align: middle;\n",
       "    }\n",
       "\n",
       "    .dataframe tbody tr th {\n",
       "        vertical-align: top;\n",
       "    }\n",
       "\n",
       "    .dataframe thead th {\n",
       "        text-align: right;\n",
       "    }\n",
       "</style>\n",
       "<table border=\"1\" class=\"dataframe\">\n",
       "  <thead>\n",
       "    <tr style=\"text-align: right;\">\n",
       "      <th></th>\n",
       "      <th>Hours Studied</th>\n",
       "      <th>Previous Scores</th>\n",
       "      <th>Extracurricular Activities</th>\n",
       "      <th>Sleep Hours</th>\n",
       "      <th>Sample Question Papers Practiced</th>\n",
       "      <th>Performance Index</th>\n",
       "      <th>Notes</th>\n",
       "    </tr>\n",
       "  </thead>\n",
       "  <tbody>\n",
       "    <tr>\n",
       "      <th>0</th>\n",
       "      <td>7.0</td>\n",
       "      <td>99</td>\n",
       "      <td>Yes</td>\n",
       "      <td>9.0</td>\n",
       "      <td>1</td>\n",
       "      <td>91.0</td>\n",
       "      <td>excellent</td>\n",
       "    </tr>\n",
       "    <tr>\n",
       "      <th>1</th>\n",
       "      <td>4.0</td>\n",
       "      <td>82</td>\n",
       "      <td>No</td>\n",
       "      <td>4.0</td>\n",
       "      <td>2</td>\n",
       "      <td>65.0</td>\n",
       "      <td>review</td>\n",
       "    </tr>\n",
       "    <tr>\n",
       "      <th>2</th>\n",
       "      <td>8.0</td>\n",
       "      <td>51</td>\n",
       "      <td>Yes</td>\n",
       "      <td>7.0</td>\n",
       "      <td>2</td>\n",
       "      <td>45.0</td>\n",
       "      <td>review</td>\n",
       "    </tr>\n",
       "    <tr>\n",
       "      <th>3</th>\n",
       "      <td>5.0</td>\n",
       "      <td>52</td>\n",
       "      <td>Yes</td>\n",
       "      <td>5.0</td>\n",
       "      <td>2</td>\n",
       "      <td>36.0</td>\n",
       "      <td>excellent</td>\n",
       "    </tr>\n",
       "    <tr>\n",
       "      <th>4</th>\n",
       "      <td>7.0</td>\n",
       "      <td>75</td>\n",
       "      <td>No</td>\n",
       "      <td>8.0</td>\n",
       "      <td>5</td>\n",
       "      <td>66.0</td>\n",
       "      <td>review</td>\n",
       "    </tr>\n",
       "  </tbody>\n",
       "</table>\n",
       "</div>"
      ],
      "text/plain": [
       "   Hours Studied  Previous Scores Extracurricular Activities  Sleep Hours  \\\n",
       "0            7.0               99                        Yes          9.0   \n",
       "1            4.0               82                         No          4.0   \n",
       "2            8.0               51                        Yes          7.0   \n",
       "3            5.0               52                        Yes          5.0   \n",
       "4            7.0               75                         No          8.0   \n",
       "\n",
       "   Sample Question Papers Practiced  Performance Index      Notes  \n",
       "0                                 1               91.0  excellent  \n",
       "1                                 2               65.0     review  \n",
       "2                                 2               45.0     review  \n",
       "3                                 2               36.0  excellent  \n",
       "4                                 5               66.0     review  "
      ]
     },
     "execution_count": 2,
     "metadata": {},
     "output_type": "execute_result"
    }
   ],
   "source": [
    "import pandas as pd\n",
    "\n",
    "# Load the dirty dataset\n",
    "df = pd.read_csv('student_performance_dirty.csv')\n",
    "print(\"Dataset loaded successfully!\")\n",
    "df.head()"
   ]
  },
  {
   "cell_type": "markdown",
   "metadata": {},
   "source": [
    "## Exploratory Data Analysis (EDA)\n",
    "Explore the dataset to understand its structure and detect issues.\n",
    "\n",
    "- Understand the dimensions and types of the data.\n",
    "- Identify missing values and duplicates.\n",
    "- Spot columns that may need conversion or removal."
   ]
  },
  {
   "cell_type": "code",
   "execution_count": 5,
   "metadata": {},
   "outputs": [
    {
     "name": "stdout",
     "output_type": "stream",
     "text": [
      "Dataset shape is: (10005, 7) \n",
      "\n",
      "Columns are: ['Hours Studied', 'Previous Scores', 'Extracurricular Activities', 'Sleep Hours', 'Sample Question Papers Practiced', 'Performance Index', 'Notes'] \n",
      "\n",
      "Data types:\n",
      " Hours Studied                       float64\n",
      "Previous Scores                       int64\n",
      "Extracurricular Activities           object\n",
      "Sleep Hours                         float64\n",
      "Sample Question Papers Practiced      int64\n",
      "Performance Index                   float64\n",
      "Notes                                object\n",
      "dtype: object \n",
      "\n",
      "Missing values:\n",
      " Hours Studied                       1032\n",
      "Previous Scores                        0\n",
      "Extracurricular Activities             0\n",
      "Sleep Hours                          496\n",
      "Sample Question Papers Practiced       0\n",
      "Performance Index                      0\n",
      "Notes                                  0\n",
      "dtype: int64 \n",
      "\n",
      "Number of duplicate rows: 44\n"
     ]
    }
   ],
   "source": [
    "# Check the overall shape and column names\n",
    "print(\"Dataset shape is:\", df.shape, \"\\n\")\n",
    "print(\"Columns are:\", df.columns.tolist(), \"\\n\")\n",
    "\n",
    "# Get a basic statistical summary (numeric columns only)\n",
    "# print(df.describe())\n",
    "\n",
    "# Check data types for each column\n",
    "print(\"Data types:\\n\", df.dtypes, \"\\n\")\n",
    "\n",
    "# Identify missing values in each column\n",
    "print(\"Missing values:\\n\", df.isnull().sum(), \"\\n\")\n",
    "\n",
    "# Identify duplicate rows\n",
    "duplicates = df.duplicated().sum()\n",
    "print(\"Number of duplicate rows:\", duplicates)\n"
   ]
  },
  {
   "cell_type": "markdown",
   "metadata": {},
   "source": [
    "## Data Cleaning and Preprocessing\n",
    "\n",
    "### Handling missing values\n",
    "Impute missing numeric values using the mean for \"Hours Studied\" and \"Sleep Hours.\"\n",
    "- Use imputation to handle missing numerical data effectively."
   ]
  },
  {
   "cell_type": "code",
   "execution_count": 7,
   "metadata": {},
   "outputs": [],
   "source": [
    "# Impute missing values for 'Hours Studied' and 'Sleep Hours'\n",
    "df['Hours Studied'].fillna(df['Hours Studied'].mean(), inplace=True)\n",
    "df['Sleep Hours'].fillna(df['Sleep Hours'].mean(), inplace=True)\n",
    "\n",
    "# or drop rows with missing values\n",
    "# df.dropna(inplace=True)"
   ]
  },
  {
   "cell_type": "markdown",
   "metadata": {},
   "source": [
    "### Converting Data Types\n",
    "Convert \"Previous Scores\" from strings back to numeric.\n",
    "- Ensure that data types are correct before modeling."
   ]
  },
  {
   "cell_type": "code",
   "execution_count": 8,
   "metadata": {},
   "outputs": [
    {
     "name": "stdout",
     "output_type": "stream",
     "text": [
      "Converted 'Previous Scores' data type: int64\n"
     ]
    }
   ],
   "source": [
    "# Convert 'Previous Scores' to numeric\n",
    "df['Previous Scores'] = pd.to_numeric(df['Previous Scores'], errors='coerce')\n",
    "print(\"Converted 'Previous Scores' data type:\", df['Previous Scores'].dtypes)"
   ]
  },
  {
   "cell_type": "markdown",
   "metadata": {},
   "source": [
    "### Removing Duplicates\n",
    "Remove duplicate rows to avoid bias in training.\n",
    "- Duplicate removal helps prevent data redundancy."
   ]
  },
  {
   "cell_type": "code",
   "execution_count": 9,
   "metadata": {},
   "outputs": [
    {
     "name": "stdout",
     "output_type": "stream",
     "text": [
      "Duplicates removed. New dataset shape: (9961, 7)\n"
     ]
    }
   ],
   "source": [
    "# Remove duplicate rows\n",
    "df.drop_duplicates(inplace=True)\n",
    "print(\"Duplicates removed. New dataset shape:\", df.shape)"
   ]
  },
  {
   "cell_type": "markdown",
   "metadata": {},
   "source": [
    "### Dropping Irrelevant Columns\n",
    "Remove columns that are not required for the regression task (e.g., \"Notes\").\n",
    "- Eliminate features that do not contribute to the predictive task."
   ]
  },
  {
   "cell_type": "code",
   "execution_count": 10,
   "metadata": {},
   "outputs": [
    {
     "name": "stdout",
     "output_type": "stream",
     "text": [
      "Columns after dropping irrelevant data: ['Hours Studied', 'Previous Scores', 'Extracurricular Activities', 'Sleep Hours', 'Sample Question Papers Practiced', 'Performance Index']\n"
     ]
    }
   ],
   "source": [
    "# Drop the irrelevant 'Notes' column\n",
    "df.drop(columns=['Notes'], inplace=True)\n",
    "print(\"Columns after dropping irrelevant data:\", df.columns.tolist())"
   ]
  },
  {
   "cell_type": "markdown",
   "metadata": {},
   "source": [
    "### Outlier Detection and Treatment\n",
    "Handle outliers in \"Sample Question Papers Practiced\" by capping values at the 95th percentile.\n",
    "- Outlier treatment minimizes their impact on the regression model."
   ]
  },
  {
   "cell_type": "code",
   "execution_count": 12,
   "metadata": {},
   "outputs": [
    {
     "name": "stdout",
     "output_type": "stream",
     "text": [
      "Outliers in 'Sample Question Papers Practiced' capped at: 9.0\n"
     ]
    }
   ],
   "source": [
    "import numpy as np \n",
    "\n",
    "# Identify the 95th percentile for 'Sample Question Papers Practiced'\n",
    "upper_limit = df['Sample Question Papers Practiced'].quantile(0.95)\n",
    "df['Sample Question Papers Practiced'] = np.where(\n",
    "    df['Sample Question Papers Practiced'] > upper_limit, \n",
    "    upper_limit, \n",
    "    df['Sample Question Papers Practiced']\n",
    ")\n",
    "print(\"Outliers in 'Sample Question Papers Practiced' capped at:\", upper_limit)"
   ]
  },
  {
   "cell_type": "markdown",
   "metadata": {},
   "source": [
    "## Final Check and Readiness for Modeling\n",
    "Conduct a final review of the processed dataset to ensure it is ready for linear regression.\n",
    "- Confirm that all cleaning, normalization, and preprocessing steps have been successfully applied before model training."
   ]
  },
  {
   "cell_type": "code",
   "execution_count": 13,
   "metadata": {},
   "outputs": [
    {
     "name": "stdout",
     "output_type": "stream",
     "text": [
      "Missing values after preprocessing:\n",
      " Hours Studied                       0\n",
      "Previous Scores                     0\n",
      "Extracurricular Activities          0\n",
      "Sleep Hours                         0\n",
      "Sample Question Papers Practiced    0\n",
      "Performance Index                   0\n",
      "dtype: int64\n",
      "Data types after cleaning:\n",
      " Hours Studied                       float64\n",
      "Previous Scores                       int64\n",
      "Extracurricular Activities           object\n",
      "Sleep Hours                         float64\n",
      "Sample Question Papers Practiced    float64\n",
      "Performance Index                   float64\n",
      "dtype: object\n",
      "Final dataset preview:\n"
     ]
    },
    {
     "data": {
      "text/html": [
       "<div>\n",
       "<style scoped>\n",
       "    .dataframe tbody tr th:only-of-type {\n",
       "        vertical-align: middle;\n",
       "    }\n",
       "\n",
       "    .dataframe tbody tr th {\n",
       "        vertical-align: top;\n",
       "    }\n",
       "\n",
       "    .dataframe thead th {\n",
       "        text-align: right;\n",
       "    }\n",
       "</style>\n",
       "<table border=\"1\" class=\"dataframe\">\n",
       "  <thead>\n",
       "    <tr style=\"text-align: right;\">\n",
       "      <th></th>\n",
       "      <th>Hours Studied</th>\n",
       "      <th>Previous Scores</th>\n",
       "      <th>Extracurricular Activities</th>\n",
       "      <th>Sleep Hours</th>\n",
       "      <th>Sample Question Papers Practiced</th>\n",
       "      <th>Performance Index</th>\n",
       "    </tr>\n",
       "  </thead>\n",
       "  <tbody>\n",
       "    <tr>\n",
       "      <th>0</th>\n",
       "      <td>7.0</td>\n",
       "      <td>99</td>\n",
       "      <td>Yes</td>\n",
       "      <td>9.0</td>\n",
       "      <td>1.0</td>\n",
       "      <td>91.0</td>\n",
       "    </tr>\n",
       "    <tr>\n",
       "      <th>1</th>\n",
       "      <td>4.0</td>\n",
       "      <td>82</td>\n",
       "      <td>No</td>\n",
       "      <td>4.0</td>\n",
       "      <td>2.0</td>\n",
       "      <td>65.0</td>\n",
       "    </tr>\n",
       "    <tr>\n",
       "      <th>2</th>\n",
       "      <td>8.0</td>\n",
       "      <td>51</td>\n",
       "      <td>Yes</td>\n",
       "      <td>7.0</td>\n",
       "      <td>2.0</td>\n",
       "      <td>45.0</td>\n",
       "    </tr>\n",
       "    <tr>\n",
       "      <th>3</th>\n",
       "      <td>5.0</td>\n",
       "      <td>52</td>\n",
       "      <td>Yes</td>\n",
       "      <td>5.0</td>\n",
       "      <td>2.0</td>\n",
       "      <td>36.0</td>\n",
       "    </tr>\n",
       "    <tr>\n",
       "      <th>4</th>\n",
       "      <td>7.0</td>\n",
       "      <td>75</td>\n",
       "      <td>No</td>\n",
       "      <td>8.0</td>\n",
       "      <td>5.0</td>\n",
       "      <td>66.0</td>\n",
       "    </tr>\n",
       "  </tbody>\n",
       "</table>\n",
       "</div>"
      ],
      "text/plain": [
       "   Hours Studied  Previous Scores Extracurricular Activities  Sleep Hours  \\\n",
       "0            7.0               99                        Yes          9.0   \n",
       "1            4.0               82                         No          4.0   \n",
       "2            8.0               51                        Yes          7.0   \n",
       "3            5.0               52                        Yes          5.0   \n",
       "4            7.0               75                         No          8.0   \n",
       "\n",
       "   Sample Question Papers Practiced  Performance Index  \n",
       "0                               1.0               91.0  \n",
       "1                               2.0               65.0  \n",
       "2                               2.0               45.0  \n",
       "3                               2.0               36.0  \n",
       "4                               5.0               66.0  "
      ]
     },
     "execution_count": 13,
     "metadata": {},
     "output_type": "execute_result"
    }
   ],
   "source": [
    "# Final check for missing values and data types\n",
    "print(\"Missing values after preprocessing:\\n\", df.isnull().sum())\n",
    "print(\"Data types after cleaning:\\n\", df.dtypes)\n",
    "\n",
    "# Final preview of the cleaned dataset\n",
    "print(\"Final dataset preview:\")\n",
    "df.head()"
   ]
  },
  {
   "cell_type": "code",
   "execution_count": 14,
   "metadata": {},
   "outputs": [],
   "source": [
    "# save data\n",
    "df.to_csv('student_performance_clean.csv', index=False)"
   ]
  }
 ],
 "metadata": {
  "kernelspec": {
   "display_name": "Python 3",
   "language": "python",
   "name": "python3"
  },
  "language_info": {
   "codemirror_mode": {
    "name": "ipython",
    "version": 3
   },
   "file_extension": ".py",
   "mimetype": "text/x-python",
   "name": "python",
   "nbconvert_exporter": "python",
   "pygments_lexer": "ipython3",
   "version": "3.10.12"
  }
 },
 "nbformat": 4,
 "nbformat_minor": 2
}
